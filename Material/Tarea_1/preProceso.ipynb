{
 "cells": [
  {
   "cell_type": "code",
   "execution_count": null,
   "metadata": {
    "notebookRunGroups": {
     "groupValue": ""
    }
   },
   "outputs": [],
   "source": [
    "import csv\n",
    "import pandas as pd1"
   ]
  },
  {
   "cell_type": "code",
   "execution_count": null,
   "metadata": {},
   "outputs": [],
   "source": [
    "def main():\n",
    "    reader = pd.read_csv(\"data_mejora.csv\",sep = ';')\n",
    "    new_data = pd.DataFrame()\n",
    "    for i in [1,10]:\n",
    "        temp = None\n",
    "        subData = reader[reader['bytes'] == i] \n",
    "        print(subData['bw'])\n",
    "main()"
   ]
  }
 ],
 "metadata": {
  "language_info": {
   "name": "python"
  },
  "orig_nbformat": 4
 },
 "nbformat": 4,
 "nbformat_minor": 2
}
